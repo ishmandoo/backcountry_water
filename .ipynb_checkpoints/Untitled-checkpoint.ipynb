{
 "cells": [
  {
   "cell_type": "code",
   "execution_count": 18,
   "metadata": {},
   "outputs": [
    {
     "name": "stderr",
     "output_type": "stream",
     "text": [
      "/usr/local/lib/python3.6/dist-packages/grequests.py:21: MonkeyPatchWarning: Monkey-patching ssl after ssl has already been imported may lead to errors, including RecursionError on Python 3.6. It may also silently lead to incorrect behaviour on Python 3.7. Please monkey-patch earlier. See https://github.com/gevent/gevent/issues/1016. Modules that had direct imports (NOT patched): ['urllib3.contrib.pyopenssl (/usr/local/lib/python3.6/dist-packages/urllib3/contrib/pyopenssl.py)']. \n",
      "  curious_george.patch_all(thread=False, select=False)\n"
     ]
    }
   ],
   "source": [
    "import requests\n",
    "import grequests"
   ]
  },
  {
   "cell_type": "code",
   "execution_count": 7,
   "metadata": {},
   "outputs": [],
   "source": [
    "def getSnow(month, year, state):\n",
    "    r = requests.get(f\"https://www.ncdc.noaa.gov/snow-and-ice/daily-snow/{state.upper()}-snowfall-{year}{month:02}.json\")\n",
    "    return r.json()['data'].values()"
   ]
  },
  {
   "cell_type": "code",
   "execution_count": 42,
   "metadata": {},
   "outputs": [],
   "source": [
    "urls = [\n",
    "    f\"https://www.ncdc.noaa.gov/snow-and-ice/snow-depth/{state.upper()}-snowfall-{year}{month:02}.json\"\n",
    "    for year in range(2018,2019)\n",
    "    for month in range(1,13)\n",
    "    for state in [\"CA\"]\n",
    "]"
   ]
  },
  {
   "cell_type": "code",
   "execution_count": 43,
   "metadata": {},
   "outputs": [
    {
     "data": {
      "text/plain": [
       "['https://www.ncdc.noaa.gov/snow-and-ice/snow-depth/CA-snowfall-201801.json',\n",
       " 'https://www.ncdc.noaa.gov/snow-and-ice/snow-depth/CA-snowfall-201802.json',\n",
       " 'https://www.ncdc.noaa.gov/snow-and-ice/snow-depth/CA-snowfall-201803.json',\n",
       " 'https://www.ncdc.noaa.gov/snow-and-ice/snow-depth/CA-snowfall-201804.json',\n",
       " 'https://www.ncdc.noaa.gov/snow-and-ice/snow-depth/CA-snowfall-201805.json',\n",
       " 'https://www.ncdc.noaa.gov/snow-and-ice/snow-depth/CA-snowfall-201806.json',\n",
       " 'https://www.ncdc.noaa.gov/snow-and-ice/snow-depth/CA-snowfall-201807.json',\n",
       " 'https://www.ncdc.noaa.gov/snow-and-ice/snow-depth/CA-snowfall-201808.json',\n",
       " 'https://www.ncdc.noaa.gov/snow-and-ice/snow-depth/CA-snowfall-201809.json',\n",
       " 'https://www.ncdc.noaa.gov/snow-and-ice/snow-depth/CA-snowfall-201810.json',\n",
       " 'https://www.ncdc.noaa.gov/snow-and-ice/snow-depth/CA-snowfall-201811.json',\n",
       " 'https://www.ncdc.noaa.gov/snow-and-ice/snow-depth/CA-snowfall-201812.json']"
      ]
     },
     "execution_count": 43,
     "metadata": {},
     "output_type": "execute_result"
    }
   ],
   "source": [
    "urls"
   ]
  },
  {
   "cell_type": "code",
   "execution_count": 49,
   "metadata": {},
   "outputs": [],
   "source": [
    "rs = (grequests.get(u) for u in urls)"
   ]
  },
  {
   "cell_type": "code",
   "execution_count": 50,
   "metadata": {},
   "outputs": [],
   "source": [
    "snow = grequests.map(rs)"
   ]
  },
  {
   "cell_type": "code",
   "execution_count": 51,
   "metadata": {},
   "outputs": [],
   "source": [
    "d = [r.json() for r in snow if r.status_code == 200]"
   ]
  },
  {
   "cell_type": "code",
   "execution_count": 52,
   "metadata": {},
   "outputs": [
    {
     "data": {
      "text/plain": [
       "[]"
      ]
     },
     "execution_count": 52,
     "metadata": {},
     "output_type": "execute_result"
    }
   ],
   "source": [
    "d"
   ]
  },
  {
   "cell_type": "code",
   "execution_count": null,
   "metadata": {},
   "outputs": [],
   "source": []
  }
 ],
 "metadata": {
  "kernelspec": {
   "display_name": "Python 3",
   "language": "python",
   "name": "python3"
  },
  "language_info": {
   "codemirror_mode": {
    "name": "ipython",
    "version": 3
   },
   "file_extension": ".py",
   "mimetype": "text/x-python",
   "name": "python",
   "nbconvert_exporter": "python",
   "pygments_lexer": "ipython3",
   "version": "3.6.8"
  }
 },
 "nbformat": 4,
 "nbformat_minor": 2
}
