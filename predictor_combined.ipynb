{
 "cells": [
  {
   "cell_type": "code",
   "execution_count": 1,
   "metadata": {},
   "outputs": [],
   "source": [
    "import pandas as pd\n",
    "pd.set_option(\"display.max_rows\", 150)\n",
    "pd.set_option('display.max_colwidth', -1)\n",
    "\n",
    "\n",
    "import numpy as np\n",
    "\n",
    "import glob\n",
    "\n",
    "import gpxpy\n",
    "import gpxpy.gpx\n",
    "\n",
    "import re\n",
    "\n",
    "from IPython.display import SVG,display, HTML\n",
    "\n",
    "import requests\n",
    "import pickle\n",
    "\n",
    "from sklearn.neighbors import KDTree\n",
    "\n",
    "import seaborn as sns"
   ]
  },
  {
   "cell_type": "code",
   "execution_count": 2,
   "metadata": {},
   "outputs": [],
   "source": [
    "# functions for judging a description\n",
    "not_flowing_keywords = [\"dry\", \"no water\", \"no flow\"]\n",
    "def isNotFlowing(description):\n",
    "    return any([kw in description for kw in not_flowing_keywords])\n",
    "assert(isNotFlowing(\"looks dry\"))\n",
    "\n",
    "flowing_keywords = [\"good\", \"flowing\", \"flow\", \"lots\", \"working\", \"liter\", \"gallon\", \"g/s\", \"l/s\", \"plenty\"]\n",
    "def isFlowing(description):\n",
    "    return any([kw in description for kw in flowing_keywords])\n",
    "assert(isFlowing(\"flowing well\"))\n",
    "\n",
    "\n",
    "tank_keywords = [\"tank\", \"cache\"]\n",
    "def isTank(description):\n",
    "    return any([kw in description for kw in tank_keywords])\n",
    "assert(isTank(\"tank empty\"))"
   ]
  },
  {
   "cell_type": "code",
   "execution_count": 3,
   "metadata": {},
   "outputs": [],
   "source": [
    "# a function that tries to fix a location id, leaves non-waypoint labels alone in case they are in the gps data\n",
    "# fixes the leading zeros problem WR004 = WR0004\n",
    "def clean_loc_id(id):\n",
    "    try:\n",
    "        waypoint_search = re.search('((?:WR|WA)(?:CS|))([0-9]+)', id, re.IGNORECASE)\n",
    "\n",
    "        if waypoint_search:        \n",
    "            waypoint_type = waypoint_search.group(1)\n",
    "            waypoint_num = waypoint_search.group(2)\n",
    "\n",
    "            return f\"{waypoint_type}{int(waypoint_num):04}\"\n",
    "    except:\n",
    "        return id\n",
    "    return id\n",
    "assert(clean_loc_id(\"WR004\") == \"WR0004\")"
   ]
  },
  {
   "cell_type": "code",
   "execution_count": 240,
   "metadata": {},
   "outputs": [],
   "source": [
    "# functions for finding the last positive result and last negative result\n",
    "def last_pos(mile, date):\n",
    "    last_pos_date = data[(data.mile == mile) & (data.status==1) & (data.date < date)].date.max()\n",
    "    if type(last_pos_date) == float:\n",
    "        return 2000\n",
    "    if pd.isnull(last_pos_date):\n",
    "        return 2000\n",
    "    return (date - last_pos_date).days\n",
    "    \n",
    "def last_neg(mile, date):\n",
    "    last_neg_date = data[(data.mile == mile) & (data.status==0) & (data.date < date)].date.max()    \n",
    "    if type(last_neg_date) == float:\n",
    "        return 2000\n",
    "    if pd.isnull(last_neg_date):\n",
    "        return 2000\n",
    "    return (date - last_neg_date).days"
   ]
  },
  {
   "cell_type": "code",
   "execution_count": 5,
   "metadata": {},
   "outputs": [],
   "source": [
    "# create a lat, lon, and name dictionaries keyed on loc_ids \n",
    "waypoints = []\n",
    "for path in glob.glob(\"gps/*.gpx\"):\n",
    "    gpx_file = open(path, 'r')\n",
    "    gpx = gpxpy.parse(gpx_file)\n",
    "    waypoints += (gpx.waypoints)\n",
    "    \n",
    "lat = {clean_loc_id(wp.name):wp.latitude for wp in waypoints}\n",
    "lon = {clean_loc_id(wp.name):wp.longitude for wp in waypoints}"
   ]
  },
  {
   "cell_type": "code",
   "execution_count": 6,
   "metadata": {},
   "outputs": [],
   "source": [
    "# a generator for sequentially reading in the data\n",
    "def data_generator():\n",
    "    for f in glob.glob(\"pct_data/*.xlsx\"):\n",
    "        data = pd.read_excel(f).dropna()\n",
    "        _,cols = data.shape\n",
    "        if cols == 7:\n",
    "            data.columns = [\"map\",\"mile\",\"loc_id\",\"name\", \"description\", \"date\", \"user\"]\n",
    "        if cols == 8:\n",
    "            data.columns = [\"map\",\"mile_2\",\"mile\",\"loc_id\",\"name\", \"description\", \"date\", \"user\"]\n",
    "        yield data"
   ]
  },
  {
   "cell_type": "code",
   "execution_count": 27,
   "metadata": {},
   "outputs": [
    {
     "name": "stderr",
     "output_type": "stream",
     "text": [
      "/usr/lib/python3/dist-packages/ipykernel_launcher.py:2: FutureWarning: Sorting because non-concatenation axis is not aligned. A future version\n",
      "of pandas will change to not sort by default.\n",
      "\n",
      "To accept the future behavior, pass 'sort=False'.\n",
      "\n",
      "To retain the current behavior and silence the warning, pass 'sort=True'.\n",
      "\n",
      "  \n"
     ]
    }
   ],
   "source": [
    "# import and combine tip line data\n",
    "data_tip = pd.concat(data_generator())"
   ]
  },
  {
   "cell_type": "code",
   "execution_count": 26,
   "metadata": {},
   "outputs": [],
   "source": [
    "# read in guthook data\n",
    "data_gh=pd.read_csv(\"guthook_data/PCTWater-wpts-Comments.csv\").rename(columns=\n",
    "    {\n",
    "        \"Date\":\"date\",\n",
    "        \"WptId\":\"loc_id\",\n",
    "        \"WptName\":\"name\",\n",
    "        \"Latitude\":\"lat\",\n",
    "        \"Longitude\":\"lon\",\n",
    "        \"Comment\":\"description\",\n",
    "        \"PCT Mile\": \"mile\"\n",
    "    })"
   ]
  },
  {
   "cell_type": "code",
   "execution_count": 56,
   "metadata": {},
   "outputs": [],
   "source": [
    "# clean up the guthook dates\n",
    "data_gh.date = pd.to_datetime(data_gh.date)\n",
    "data_tip.date = pd.to_datetime(data_tip.date, errors=\"coerce\")"
   ]
  },
  {
   "cell_type": "code",
   "execution_count": 57,
   "metadata": {},
   "outputs": [],
   "source": [
    "# clean up the lod_ids in the tip line data\n",
    "data_tip.loc_id = data_tip.loc_id.apply(clean_loc_id)"
   ]
  },
  {
   "cell_type": "code",
   "execution_count": 58,
   "metadata": {},
   "outputs": [],
   "source": [
    "# create lat and lon columns\n",
    "data_tip[\"lat\"] = data_tip[\"loc_id\"].map(lat)\n",
    "data_tip[\"lon\"] = data_tip[\"loc_id\"].map(lon)"
   ]
  },
  {
   "cell_type": "code",
   "execution_count": 59,
   "metadata": {},
   "outputs": [],
   "source": [
    "# merge the two mile fields in the tip lin data\n",
    "data_tip.mile = data_tip.mile.fillna(data_tip.mile_2)"
   ]
  },
  {
   "cell_type": "code",
   "execution_count": 60,
   "metadata": {},
   "outputs": [],
   "source": [
    "# drop data with missing coordinates\n",
    "data_tip = data_tip.dropna(subset=[\"lat\", \"mile\"])"
   ]
  },
  {
   "cell_type": "code",
   "execution_count": 61,
   "metadata": {},
   "outputs": [
    {
     "name": "stderr",
     "output_type": "stream",
     "text": [
      "/usr/lib/python3/dist-packages/ipykernel_launcher.py:2: FutureWarning: Sorting because non-concatenation axis is not aligned. A future version\n",
      "of pandas will change to not sort by default.\n",
      "\n",
      "To accept the future behavior, pass 'sort=False'.\n",
      "\n",
      "To retain the current behavior and silence the warning, pass 'sort=True'.\n",
      "\n",
      "  \n"
     ]
    }
   ],
   "source": [
    "# combine report and guthook\n",
    "data = pd.concat([data_tip, data_gh])"
   ]
  },
  {
   "cell_type": "code",
   "execution_count": 62,
   "metadata": {},
   "outputs": [],
   "source": [
    "# clean up the descriptions\n",
    "data.description = data.description.str.split(\"\\n\").str[0].str.lower()"
   ]
  },
  {
   "cell_type": "code",
   "execution_count": 63,
   "metadata": {},
   "outputs": [],
   "source": [
    "# create a unix time column\n",
    "data[\"unix_time\"] = (pd.to_datetime(data[\"date\"], errors='coerce').astype(np.int64)//1000000000)"
   ]
  },
  {
   "cell_type": "code",
   "execution_count": 64,
   "metadata": {},
   "outputs": [],
   "source": [
    "# create not_flowing and flowing columns\n",
    "data[\"not_flowing\"] = data[\"description\"].map(isNotFlowing, na_action=\"ignore\")\n",
    "data[\"flowing\"] = data[\"description\"].map(isFlowing, na_action=\"ignore\")\n",
    "data[\"tank\"] = data[\"description\"].map(isTank, na_action=\"ignore\")\n",
    "data[\"decision\"] = (data.flowing^data.not_flowing)&(~data.tank.astype(bool)) # logical xor\n",
    "data[\"status\"] = data.flowing.astype(float)"
   ]
  },
  {
   "cell_type": "code",
   "execution_count": 65,
   "metadata": {},
   "outputs": [
    {
     "name": "stdout",
     "output_type": "stream",
     "text": [
      "only one 44678\n",
      "at least one 45796\n",
      "both 1118\n",
      "tank 1694\n"
     ]
    }
   ],
   "source": [
    "# calculate how much data do I lose after classification\n",
    "print(f\"only one {(data.flowing^data.not_flowing).sum()}\")\n",
    "print(f\"at least one {(data.flowing|data.not_flowing).sum()}\")\n",
    "print(f\"both {(data.flowing&data.not_flowing).sum()}\")\n",
    "print(f\"tank {data.tank.sum()}\")\n"
   ]
  },
  {
   "cell_type": "code",
   "execution_count": 66,
   "metadata": {},
   "outputs": [],
   "source": [
    "# remove all data with no decision\n",
    "data = data[data.decision]"
   ]
  },
  {
   "cell_type": "code",
   "execution_count": 67,
   "metadata": {},
   "outputs": [],
   "source": [
    "# remove duplicate entries (ones with the same date and loc_id)\n",
    "data = data.drop_duplicates(subset=[\"date\",\"mile\"])"
   ]
  },
  {
   "cell_type": "code",
   "execution_count": 69,
   "metadata": {},
   "outputs": [],
   "source": [
    "# calculate the day of year features\n",
    "data['month'] = data.date.map(lambda d:d.month)\n",
    "data['DOY'] = data.date.dt.dayofyear\n",
    "data['sinDOY'] = np.sin(2  * np.pi * data.date.dt.dayofyear/365.)\n",
    "data['cosDOY'] = np.cos(2  * np.pi * data.date.dt.dayofyear/365.)"
   ]
  },
  {
   "cell_type": "code",
   "execution_count": 70,
   "metadata": {},
   "outputs": [
    {
     "data": {
      "text/plain": [
       "<matplotlib.axes._subplots.AxesSubplot at 0x7f46f1e9c128>"
      ]
     },
     "execution_count": 70,
     "metadata": {},
     "output_type": "execute_result"
    },
    {
     "data": {
      "image/png": "[encoded data removed]",
      "text/plain": [
       "<matplotlib.figure.Figure at 0x7f46f21ab320>"
      ]
     },
     "metadata": {},
     "output_type": "display_data"
    }
   ],
   "source": [
    "# what does the day of year feature look like?\n",
    "data.DOY.hist()"
   ]
  },
  {
   "cell_type": "code",
   "execution_count": 71,
   "metadata": {},
   "outputs": [],
   "source": [
    "# pick which miles we'll focus on\n",
    "miles = list(data.groupby(\"mile\").nunique().sort_values(by=\"date\")[-150:].loc_id.index)"
   ]
  },
  {
   "cell_type": "code",
   "execution_count": 72,
   "metadata": {},
   "outputs": [],
   "source": [
    "# remove other data\n",
    "data = data[data.mile.isin(miles)]"
   ]
  },
  {
   "cell_type": "code",
   "execution_count": 73,
   "metadata": {},
   "outputs": [
    {
     "data": {
      "text/plain": [
       "(8677, 21)"
      ]
     },
     "execution_count": 73,
     "metadata": {},
     "output_type": "execute_result"
    }
   ],
   "source": [
    "data.shape"
   ]
  },
  {
   "cell_type": "code",
   "execution_count": 75,
   "metadata": {},
   "outputs": [],
   "source": [
    "# create last positive and negative result columns\n",
    "data[\"last_pos\"] = data.apply(lambda row: last_pos(row.mile, row.date), axis=1)\n",
    "data[\"last_neg\"] = data.apply(lambda row: last_neg(row.mile, row.date), axis=1)\n"
   ]
  },
  {
   "cell_type": "code",
   "execution_count": 76,
   "metadata": {},
   "outputs": [],
   "source": [
    "data[\"last_pos_inv\"] = 1./ (data[\"last_pos\"]+1)\n",
    "data[\"last_neg_inv\"] = 1./ (data[\"last_neg\"]+1)\n"
   ]
  },
  {
   "cell_type": "code",
   "execution_count": 77,
   "metadata": {},
   "outputs": [
    {
     "data": {
      "text/plain": [
       "<matplotlib.axes._subplots.AxesSubplot at 0x7f46f1fd4b00>"
      ]
     },
     "execution_count": 77,
     "metadata": {},
     "output_type": "execute_result"
    },
    {
     "data": {
      "image/png": "[encoded data removed]",
      "text/plain": [
       "<matplotlib.figure.Figure at 0x7f46f2054320>"
      ]
     },
     "metadata": {},
     "output_type": "display_data"
    }
   ],
   "source": [
    "# what does this data look like\n",
    "data.last_pos.hist()"
   ]
  },
  {
   "cell_type": "code",
   "execution_count": 86,
   "metadata": {},
   "outputs": [
    {
     "name": "stderr",
     "output_type": "stream",
     "text": [
      "/usr/local/lib/python3.6/dist-packages/pandas/plotting/_matplotlib/converter.py:103: FutureWarning: Using an implicitly registered datetime converter for a matplotlib plotting method. The converter was registered by pandas on import. Future versions of pandas will require you to explicitly register matplotlib converters.\n",
      "\n",
      "To register the converters:\n",
      "\t>>> from pandas.plotting import register_matplotlib_converters\n",
      "\t>>> register_matplotlib_converters()\n",
      "  warnings.warn(msg, FutureWarning)\n"
     ]
    },
    {
     "data": {
      "text/plain": [
       "<matplotlib.axes._subplots.AxesSubplot at 0x7f46f2002eb8>"
      ]
     },
     "execution_count": 86,
     "metadata": {},
     "output_type": "execute_result"
    },
    {
     "data": {
      "image/png": "[encoded data removed]",
      "text/plain": [
       "<matplotlib.figure.Figure at 0x7f46f1defdd8>"
      ]
     },
     "metadata": {},
     "output_type": "display_data"
    }
   ],
   "source": [
    "# when does my data come from?\n",
    "data.date.hist()"
   ]
  },
  {
   "cell_type": "code",
   "execution_count": 87,
   "metadata": {},
   "outputs": [],
   "source": [
    "# function for \n",
    "try:\n",
    "    f = open('rain_memo_coords.pkl', 'rb')\n",
    "    rain_memo = pickle.load(f)\n",
    "    f.close()\n",
    "except:\n",
    "    print(\"no rain memo\")\n",
    "    rain_memo = {}\n",
    "\n",
    "def getRainfall(lat, lon, unix_time):\n",
    "    lat, lon = round(lat,2),round(lon,2)\n",
    "    if (lat, lon, unix_time) in rain_memo:\n",
    "        return rain_memo[(lat,lon, unix_time)]\n",
    "    print(f\"{lat},{lon},{unix_time} not found, calling DarkSky\")\n",
    "    r = requests.get(f\"https://api.darksky.net/forecast/b2edaf747348d39d0c0f060a4a8497a2/{lat},{lon},{unix_time}?exclude=currently,minutely,hourly,alerts\")\n",
    "    \n",
    "    try:\n",
    "        rain = r.json()[\"daily\"][\"data\"][0][\"precipIntensity\"]\n",
    "        rain_memo[(lat, lon, unix_time)] = rain\n",
    "    except:\n",
    "        rain = 0\n",
    "        print(f\"Data parse error {lat},{lon},{unix_time}\")\n",
    "        \n",
    "    f = open('rain_memo_coords.pkl', 'wb')\n",
    "    pickle.dump(rain_memo, f)\n",
    "    f.close() \n",
    "    \n",
    "    return rain"
   ]
  },
  {
   "cell_type": "code",
   "execution_count": 88,
   "metadata": {},
   "outputs": [],
   "source": [
    "# function for calculating cumulative rain totals\n",
    "def getRainSum(lat, lon, unix_time, n):\n",
    "    return 24 * sum([getRainfall(lat, lon, unix_time - (24*60*60*day)) for day in range(0,n)])"
   ]
  },
  {
   "cell_type": "code",
   "execution_count": 184,
   "metadata": {},
   "outputs": [
    {
     "name": "stdout",
     "output_type": "stream",
     "text": [
      "43.52,-122.13,1437004800 not found, calling DarkSky\n",
      "Data parse error 43.52,-122.13,1437004800\n",
      "43.52,-122.13,1436918400 not found, calling DarkSky\n",
      "Data parse error 43.52,-122.13,1436918400\n",
      "43.52,-122.13,1436832000 not found, calling DarkSky\n",
      "Data parse error 43.52,-122.13,1436832000\n",
      "43.52,-122.13,1436745600 not found, calling DarkSky\n",
      "Data parse error 43.52,-122.13,1436745600\n",
      "43.52,-122.13,1436659200 not found, calling DarkSky\n",
      "Data parse error 43.52,-122.13,1436659200\n",
      "43.52,-122.13,1437696000 not found, calling DarkSky\n",
      "Data parse error 43.52,-122.13,1437696000\n",
      "43.52,-122.13,1437609600 not found, calling DarkSky\n",
      "Data parse error 43.52,-122.13,1437609600\n",
      "43.52,-122.13,1437523200 not found, calling DarkSky\n",
      "Data parse error 43.52,-122.13,1437523200\n",
      "43.52,-122.13,1437436800 not found, calling DarkSky\n",
      "Data parse error 43.52,-122.13,1437436800\n",
      "43.52,-122.13,1437350400 not found, calling DarkSky\n",
      "Data parse error 43.52,-122.13,1437350400\n",
      "43.52,-122.13,1438732800 not found, calling DarkSky\n",
      "Data parse error 43.52,-122.13,1438732800\n",
      "43.52,-122.13,1438646400 not found, calling DarkSky\n",
      "Data parse error 43.52,-122.13,1438646400\n",
      "43.52,-122.13,1438560000 not found, calling DarkSky\n",
      "Data parse error 43.52,-122.13,1438560000\n",
      "43.52,-122.13,1438473600 not found, calling DarkSky\n",
      "Data parse error 43.52,-122.13,1438473600\n",
      "43.52,-122.13,1438387200 not found, calling DarkSky\n",
      "Data parse error 43.52,-122.13,1438387200\n",
      "43.52,-122.13,1437004800 not found, calling DarkSky\n",
      "Data parse error 43.52,-122.13,1437004800\n",
      "43.52,-122.13,1436918400 not found, calling DarkSky\n",
      "Data parse error 43.52,-122.13,1436918400\n",
      "43.52,-122.13,1436832000 not found, calling DarkSky\n",
      "Data parse error 43.52,-122.13,1436832000\n",
      "43.52,-122.13,1437696000 not found, calling DarkSky\n",
      "Data parse error 43.52,-122.13,1437696000\n",
      "43.52,-122.13,1437609600 not found, calling DarkSky\n",
      "Data parse error 43.52,-122.13,1437609600\n",
      "43.52,-122.13,1437523200 not found, calling DarkSky\n",
      "Data parse error 43.52,-122.13,1437523200\n",
      "43.52,-122.13,1438732800 not found, calling DarkSky\n",
      "Data parse error 43.52,-122.13,1438732800\n",
      "43.52,-122.13,1438646400 not found, calling DarkSky\n",
      "Data parse error 43.52,-122.13,1438646400\n",
      "43.52,-122.13,1438560000 not found, calling DarkSky\n",
      "Data parse error 43.52,-122.13,1438560000\n"
     ]
    }
   ],
   "source": [
    "# calculate cumulative rain fields\n",
    "data[\"rain_5\"] = data.apply(lambda row: getRainSum(row.lat, row.lon, row.unix_time, 5), axis=1)\n",
    "data[\"rain_3\"] = data.apply(lambda row: getRainSum(row.lat, row.lon, row.unix_time, 3), axis=1)"
   ]
  },
  {
   "cell_type": "code",
   "execution_count": 91,
   "metadata": {},
   "outputs": [
    {
     "data": {
      "text/plain": [
       "0.2363282051282051"
      ]
     },
     "execution_count": 91,
     "metadata": {},
     "output_type": "execute_result"
    }
   ],
   "source": [
    "data[data.status==0].rain_5_rel.mean()"
   ]
  },
  {
   "cell_type": "code",
   "execution_count": null,
   "metadata": {},
   "outputs": [],
   "source": [
    "data[data.status==1].rain_5_rel.mean()"
   ]
  },
  {
   "cell_type": "code",
   "execution_count": 92,
   "metadata": {},
   "outputs": [
    {
     "ename": "AttributeError",
     "evalue": "'DataFrameGroupBy' object has no attribute 'rain_5_rel'",
     "output_type": "error",
     "traceback": [
      "\u001b[0;31m---------------------------------------------------------------------------\u001b[0m",
      "\u001b[0;31mAttributeError\u001b[0m                            Traceback (most recent call last)",
      "\u001b[0;32m<ipython-input-92-8a35c615007e>\u001b[0m in \u001b[0;36m<module>\u001b[0;34m()\u001b[0m\n\u001b[1;32m      1\u001b[0m \u001b[0;34m\u001b[0m\u001b[0m\n\u001b[0;32m----> 2\u001b[0;31m \u001b[0mdata\u001b[0m\u001b[0;34m[\u001b[0m\u001b[0mdata\u001b[0m\u001b[0;34m.\u001b[0m\u001b[0mstatus\u001b[0m\u001b[0;34m==\u001b[0m\u001b[0;36m1\u001b[0m\u001b[0;34m]\u001b[0m\u001b[0;34m.\u001b[0m\u001b[0mgroupby\u001b[0m\u001b[0;34m(\u001b[0m\u001b[0;34m\"mile\"\u001b[0m\u001b[0;34m)\u001b[0m\u001b[0;34m.\u001b[0m\u001b[0mrain_5_rel\u001b[0m\u001b[0;34m.\u001b[0m\u001b[0mmean\u001b[0m\u001b[0;34m(\u001b[0m\u001b[0;34m)\u001b[0m\u001b[0;34m.\u001b[0m\u001b[0mhist\u001b[0m\u001b[0;34m(\u001b[0m\u001b[0mbins\u001b[0m\u001b[0;34m=\u001b[0m\u001b[0mnp\u001b[0m\u001b[0;34m.\u001b[0m\u001b[0marange\u001b[0m\u001b[0;34m(\u001b[0m\u001b[0;36m0\u001b[0m\u001b[0;34m,\u001b[0m\u001b[0;36m2\u001b[0m\u001b[0;34m,\u001b[0m\u001b[0;36m.1\u001b[0m\u001b[0;34m)\u001b[0m\u001b[0;34m,\u001b[0m \u001b[0malpha\u001b[0m\u001b[0;34m=\u001b[0m\u001b[0;36m0.5\u001b[0m\u001b[0;34m)\u001b[0m\u001b[0;34m\u001b[0m\u001b[0;34m\u001b[0m\u001b[0m\n\u001b[0m\u001b[1;32m      3\u001b[0m \u001b[0;34m\u001b[0m\u001b[0m\n\u001b[1;32m      4\u001b[0m \u001b[0max\u001b[0m \u001b[0;34m=\u001b[0m \u001b[0mdata\u001b[0m\u001b[0;34m[\u001b[0m\u001b[0mdata\u001b[0m\u001b[0;34m.\u001b[0m\u001b[0mstatus\u001b[0m\u001b[0;34m==\u001b[0m\u001b[0;36m0\u001b[0m\u001b[0;34m]\u001b[0m\u001b[0;34m.\u001b[0m\u001b[0mgroupby\u001b[0m\u001b[0;34m(\u001b[0m\u001b[0;34m\"mile\"\u001b[0m\u001b[0;34m)\u001b[0m\u001b[0;34m.\u001b[0m\u001b[0mrain_5_rel\u001b[0m\u001b[0;34m.\u001b[0m\u001b[0mmean\u001b[0m\u001b[0;34m(\u001b[0m\u001b[0;34m)\u001b[0m\u001b[0;34m.\u001b[0m\u001b[0mhist\u001b[0m\u001b[0;34m(\u001b[0m\u001b[0mbins\u001b[0m\u001b[0;34m=\u001b[0m\u001b[0mnp\u001b[0m\u001b[0;34m.\u001b[0m\u001b[0marange\u001b[0m\u001b[0;34m(\u001b[0m\u001b[0;36m0\u001b[0m\u001b[0;34m,\u001b[0m\u001b[0;36m2\u001b[0m\u001b[0;34m,\u001b[0m\u001b[0;36m.1\u001b[0m\u001b[0;34m)\u001b[0m\u001b[0;34m,\u001b[0m \u001b[0malpha\u001b[0m\u001b[0;34m=\u001b[0m\u001b[0;36m0.5\u001b[0m\u001b[0;34m)\u001b[0m\u001b[0;34m\u001b[0m\u001b[0;34m\u001b[0m\u001b[0m\n\u001b[1;32m      5\u001b[0m \u001b[0;34m\u001b[0m\u001b[0m\n",
      "\u001b[0;32m/usr/local/lib/python3.6/dist-packages/pandas/core/groupby/groupby.py\u001b[0m in \u001b[0;36m__getattr__\u001b[0;34m(self, attr)\u001b[0m\n\u001b[1;32m    564\u001b[0m \u001b[0;34m\u001b[0m\u001b[0m\n\u001b[1;32m    565\u001b[0m         raise AttributeError(\n\u001b[0;32m--> 566\u001b[0;31m             \u001b[0;34m\"%r object has no attribute %r\"\u001b[0m \u001b[0;34m%\u001b[0m \u001b[0;34m(\u001b[0m\u001b[0mtype\u001b[0m\u001b[0;34m(\u001b[0m\u001b[0mself\u001b[0m\u001b[0;34m)\u001b[0m\u001b[0;34m.\u001b[0m\u001b[0m__name__\u001b[0m\u001b[0;34m,\u001b[0m \u001b[0mattr\u001b[0m\u001b[0;34m)\u001b[0m\u001b[0;34m\u001b[0m\u001b[0;34m\u001b[0m\u001b[0m\n\u001b[0m\u001b[1;32m    567\u001b[0m         )\n\u001b[1;32m    568\u001b[0m \u001b[0;34m\u001b[0m\u001b[0m\n",
      "\u001b[0;31mAttributeError\u001b[0m: 'DataFrameGroupBy' object has no attribute 'rain_5_rel'"
     ]
    }
   ],
   "source": [
    "\n",
    "data[data.status==1].groupby(\"mile\").rain_5_rel.mean().hist(bins=np.arange(0,2,.1), alpha=0.5)\n",
    "\n",
    "ax = data[data.status==0].groupby(\"mile\").rain_5_rel.mean().hist(bins=np.arange(0,2,.1), alpha=0.5)\n",
    "\n",
    "ax.set_ylabel(\"count\", fontsize=20)\n",
    "ax.set_xlabel(\"5 day rainfall relative to source average\", fontsize=20)"
   ]
  },
  {
   "cell_type": "code",
   "execution_count": 93,
   "metadata": {},
   "outputs": [
    {
     "ename": "AttributeError",
     "evalue": "'DataFrameGroupBy' object has no attribute 'ground_water'",
     "output_type": "error",
     "traceback": [
      "\u001b[0;31m---------------------------------------------------------------------------\u001b[0m",
      "\u001b[0;31mAttributeError\u001b[0m                            Traceback (most recent call last)",
      "\u001b[0;32m<ipython-input-93-724892c4dae3>\u001b[0m in \u001b[0;36m<module>\u001b[0;34m()\u001b[0m\n\u001b[1;32m      1\u001b[0m \u001b[0;34m\u001b[0m\u001b[0m\n\u001b[0;32m----> 2\u001b[0;31m \u001b[0mdata\u001b[0m\u001b[0;34m[\u001b[0m\u001b[0mdata\u001b[0m\u001b[0;34m.\u001b[0m\u001b[0mstatus\u001b[0m\u001b[0;34m==\u001b[0m\u001b[0;36m1\u001b[0m\u001b[0;34m]\u001b[0m\u001b[0;34m.\u001b[0m\u001b[0mgroupby\u001b[0m\u001b[0;34m(\u001b[0m\u001b[0;34m\"mile\"\u001b[0m\u001b[0;34m)\u001b[0m\u001b[0;34m.\u001b[0m\u001b[0mground_water\u001b[0m\u001b[0;34m.\u001b[0m\u001b[0mmean\u001b[0m\u001b[0;34m(\u001b[0m\u001b[0;34m)\u001b[0m\u001b[0;34m.\u001b[0m\u001b[0mhist\u001b[0m\u001b[0;34m(\u001b[0m\u001b[0mbins\u001b[0m\u001b[0;34m=\u001b[0m\u001b[0mnp\u001b[0m\u001b[0;34m.\u001b[0m\u001b[0marange\u001b[0m\u001b[0;34m(\u001b[0m\u001b[0;36m0\u001b[0m\u001b[0;34m,\u001b[0m\u001b[0;36m500\u001b[0m\u001b[0;34m,\u001b[0m\u001b[0;36m20\u001b[0m\u001b[0;34m)\u001b[0m\u001b[0;34m,\u001b[0m \u001b[0malpha\u001b[0m\u001b[0;34m=\u001b[0m\u001b[0;36m0.5\u001b[0m\u001b[0;34m)\u001b[0m\u001b[0;34m\u001b[0m\u001b[0;34m\u001b[0m\u001b[0m\n\u001b[0m\u001b[1;32m      3\u001b[0m \u001b[0;34m\u001b[0m\u001b[0m\n\u001b[1;32m      4\u001b[0m \u001b[0mdata\u001b[0m\u001b[0;34m[\u001b[0m\u001b[0mdata\u001b[0m\u001b[0;34m.\u001b[0m\u001b[0mstatus\u001b[0m\u001b[0;34m==\u001b[0m\u001b[0;36m0\u001b[0m\u001b[0;34m]\u001b[0m\u001b[0;34m.\u001b[0m\u001b[0mgroupby\u001b[0m\u001b[0;34m(\u001b[0m\u001b[0;34m\"mile\"\u001b[0m\u001b[0;34m)\u001b[0m\u001b[0;34m.\u001b[0m\u001b[0mground_water\u001b[0m\u001b[0;34m.\u001b[0m\u001b[0mmean\u001b[0m\u001b[0;34m(\u001b[0m\u001b[0;34m)\u001b[0m\u001b[0;34m.\u001b[0m\u001b[0mhist\u001b[0m\u001b[0;34m(\u001b[0m\u001b[0mbins\u001b[0m\u001b[0;34m=\u001b[0m\u001b[0mnp\u001b[0m\u001b[0;34m.\u001b[0m\u001b[0marange\u001b[0m\u001b[0;34m(\u001b[0m\u001b[0;36m0\u001b[0m\u001b[0;34m,\u001b[0m\u001b[0;36m500\u001b[0m\u001b[0;34m,\u001b[0m\u001b[0;36m20\u001b[0m\u001b[0;34m)\u001b[0m\u001b[0;34m,\u001b[0m \u001b[0malpha\u001b[0m\u001b[0;34m=\u001b[0m\u001b[0;36m0.5\u001b[0m\u001b[0;34m)\u001b[0m\u001b[0;34m\u001b[0m\u001b[0;34m\u001b[0m\u001b[0m\n",
      "\u001b[0;32m/usr/local/lib/python3.6/dist-packages/pandas/core/groupby/groupby.py\u001b[0m in \u001b[0;36m__getattr__\u001b[0;34m(self, attr)\u001b[0m\n\u001b[1;32m    564\u001b[0m \u001b[0;34m\u001b[0m\u001b[0m\n\u001b[1;32m    565\u001b[0m         raise AttributeError(\n\u001b[0;32m--> 566\u001b[0;31m             \u001b[0;34m\"%r object has no attribute %r\"\u001b[0m \u001b[0;34m%\u001b[0m \u001b[0;34m(\u001b[0m\u001b[0mtype\u001b[0m\u001b[0;34m(\u001b[0m\u001b[0mself\u001b[0m\u001b[0;34m)\u001b[0m\u001b[0;34m.\u001b[0m\u001b[0m__name__\u001b[0m\u001b[0;34m,\u001b[0m \u001b[0mattr\u001b[0m\u001b[0;34m)\u001b[0m\u001b[0;34m\u001b[0m\u001b[0;34m\u001b[0m\u001b[0m\n\u001b[0m\u001b[1;32m    567\u001b[0m         )\n\u001b[1;32m    568\u001b[0m \u001b[0;34m\u001b[0m\u001b[0m\n",
      "\u001b[0;31mAttributeError\u001b[0m: 'DataFrameGroupBy' object has no attribute 'ground_water'"
     ]
    }
   ],
   "source": [
    "\n",
    "data[data.status==1].groupby(\"mile\").ground_water.mean().hist(bins=np.arange(0,500,20), alpha=0.5)\n",
    "\n",
    "data[data.status==0].groupby(\"mile\").ground_water.mean().hist(bins=np.arange(0,500,20), alpha=0.5)"
   ]
  },
  {
   "cell_type": "code",
   "execution_count": 208,
   "metadata": {},
   "outputs": [],
   "source": [
    "gw = pd.read_csv(\"ground_water/gwlevels\", sep=\"\\t\")"
   ]
  },
  {
   "cell_type": "code",
   "execution_count": 209,
   "metadata": {},
   "outputs": [],
   "source": [
    "def dms2lat(dms):\n",
    "    dms = str(dms)\n",
    "    degrees, minutes, seconds = dms[0:2], dms[2:4], dms[4:6]\n",
    "    #print(degrees)\n",
    "    dd = float(degrees) + float(minutes)/60 + float(seconds)/(60*60);\n",
    "    return dd;\n",
    "\n",
    "def dms2lon(dms):\n",
    "    dms = str(dms)\n",
    "    degrees, minutes, seconds = dms[6:9], dms[9:11], dms[11:13]\n",
    "    #print(degrees)\n",
    "    dd = float(degrees) + float(minutes)/60 + float(seconds)/(60*60);\n",
    "    return -dd;"
   ]
  },
  {
   "cell_type": "code",
   "execution_count": 210,
   "metadata": {},
   "outputs": [],
   "source": [
    "gw[\"lat\"] = gw.site_no.map(dms2lat)\n",
    "gw[\"lon\"] = gw.site_no.map(dms2lon)"
   ]
  },
  {
   "cell_type": "code",
   "execution_count": 211,
   "metadata": {},
   "outputs": [],
   "source": [
    "gw = gw[['lev_va', 'lev_dt', 'lat', 'lon', 'site_no']]\n",
    "gw.columns=[\"meas\", \"date\", \"lat\", \"lon\", 'site_id']"
   ]
  },
  {
   "cell_type": "code",
   "execution_count": 212,
   "metadata": {},
   "outputs": [],
   "source": [
    "gw[\"unix_time\"] = (pd.to_datetime(gw[\"date\"], errors='coerce').astype(int)//1000000000)\n",
    "gw[\"unix_time_reduced\"] = gw[\"unix_time\"]//10000000\n",
    "data[\"unix_time_reduced\"] = gw[\"unix_time\"]//10000000\n",
    "gw = gw.dropna()"
   ]
  },
  {
   "cell_type": "code",
   "execution_count": 213,
   "metadata": {},
   "outputs": [],
   "source": [
    "kdt = KDTree(gw[['lat', 'lon', 'unix_time_reduced']])\n",
    "dist, i = kdt.query(data[['lat', 'lon', 'unix_time_reduced']])"
   ]
  },
  {
   "cell_type": "code",
   "execution_count": 214,
   "metadata": {},
   "outputs": [],
   "source": [
    "data['ground_water'] = gw.iloc[i.flatten()].meas.values"
   ]
  },
  {
   "cell_type": "code",
   "execution_count": 101,
   "metadata": {},
   "outputs": [
    {
     "data": {
      "text/plain": [
       "<matplotlib.axes._subplots.AxesSubplot at 0x7f46f26ec588>"
      ]
     },
     "execution_count": 101,
     "metadata": {},
     "output_type": "execute_result"
    },
    {
     "data": {
      "image/png": "[encoded data removed]",
      "text/plain": [
       "<matplotlib.figure.Figure at 0x7f46f26eccc0>"
      ]
     },
     "metadata": {},
     "output_type": "display_data"
    }
   ],
   "source": [
    "data.ground_water.hist()"
   ]
  },
  {
   "cell_type": "code",
   "execution_count": 102,
   "metadata": {},
   "outputs": [],
   "source": [
    "def last_result(row):\n",
    "    try:\n",
    "        return data[(data.mile==row.mile)&(data.date < row.date)].sort_values(\"date\", ascending=False).status.values[0]\n",
    "    except:\n",
    "        return 0"
   ]
  },
  {
   "cell_type": "code",
   "execution_count": 103,
   "metadata": {},
   "outputs": [],
   "source": [
    "data[\"last_result\"] = data.apply(last_result, axis=1)"
   ]
  },
  {
   "cell_type": "code",
   "execution_count": 302,
   "metadata": {},
   "outputs": [
    {
     "name": "stdout",
     "output_type": "stream",
     "text": [
      "(13320, 31) (2864, 31)\n"
     ]
    }
   ],
   "source": [
    "import datetime\n",
    "\n",
    "\n",
    "\n",
    "date_before = datetime.datetime(2019, 7, 1)\n",
    "\n",
    "#min_max_scaler = MinMaxScaler()\n",
    "#inputs = min_max_scaler.fit_transform(inputs)\n",
    "\n",
    "\n",
    "train = data[data.date < date_before]\n",
    "\n",
    "train_neg_over = train[train.status == 0].sample(train[train.status == 1].shape[0], replace=True)\n",
    "train = pd.concat([train[train.status == 1], train_neg_over], axis=0)\n",
    "\n",
    "test = data[data.date >= date_before]\n",
    "\n",
    "\n",
    "test_neg_over = test[test.status == 0].sample(test[test.status == 1].shape[0], replace=True)\n",
    "test = pd.concat([test[test.status == 1], test_neg_over], axis=0)\n",
    "\n",
    "print(train.shape,  test.shape)"
   ]
  },
  {
   "cell_type": "code",
   "execution_count": 303,
   "metadata": {},
   "outputs": [],
   "source": [
    "rain_5_avg_source = train.groupby(\"mile\").rain_5.mean()\n",
    "\n",
    "\n",
    "data[\"rain_5_avg\"] = data.mile.map(lambda m: rain_5_avg_source.get(m))\n",
    "\n",
    "train[\"rain_5_avg\"] = train.mile.map(lambda m: rain_5_avg_source.get(m))\n",
    "train[\"rain_5_rel\"] = train.rain_5 / train.rain_5_avg\n",
    "\n",
    "test[\"rain_5_avg\"] = test.mile.map(lambda m: rain_5_avg_source.get(m))\n",
    "test[\"rain_5_rel\"] = test.rain_5 / test.rain_5_avg"
   ]
  },
  {
   "cell_type": "code",
   "execution_count": 304,
   "metadata": {},
   "outputs": [],
   "source": [
    "rain_3_avg_source = train.groupby(\"mile\").rain_3.mean()\n",
    "train[\"rain_3_avg\"] = train.mile.map(lambda m: rain_3_avg_source.get(m))\n",
    "train[\"rain_3_rel\"] = train.rain_3/ train.rain_3_avg\n",
    "\n",
    "test[\"rain_3_avg\"] = test.mile.map(lambda m: rain_3_avg_source.get(m))\n",
    "test[\"rain_3_rel\"] = test.rain_3/ test.rain_3_avg"
   ]
  },
  {
   "cell_type": "code",
   "execution_count": 305,
   "metadata": {},
   "outputs": [],
   "source": [
    "# calculate last results normalized by overall measurement frequency per source\n",
    "last_avg_source = data.groupby(\"mile\")[\"last_result\"].mean()\n",
    "\n",
    "train[\"last_avg\"] = train.mile.map(lambda m: last_avg_source.get(m))\n",
    "train[\"last_neg_rel\"] = train.last_neg / train.last_avg\n",
    "train[\"last_pos_rel\"] = train.last_pos / train.last_avg\n",
    "\n",
    "\n",
    "test[\"last_avg\"] = test.mile.map(lambda m: last_avg_source.get(m))\n",
    "test[\"last_neg_rel\"] = test.last_neg / test.last_avg\n",
    "test[\"last_pos_rel\"] = test.last_pos / test.last_avg\n",
    "\n"
   ]
  },
  {
   "cell_type": "code",
   "execution_count": 306,
   "metadata": {},
   "outputs": [],
   "source": [
    "# calculate last results normalized by overall measurement frequency per source\n",
    "prob_source = data.groupby(\"mile\")[\"status\"].mean()\n",
    "\n",
    "\n",
    "train[\"prob_exp\"] = train.mile.map(lambda m: prob_source.get(m))\n",
    "test[\"prob_exp\"] = test.mile.map(lambda m: prob_source.get(m))"
   ]
  },
  {
   "cell_type": "code",
   "execution_count": 307,
   "metadata": {},
   "outputs": [],
   "source": [
    "# choose the features we'll use\n",
    "features = [\"rain_5_rel\",\"last_pos\",\"last_neg\",\"prob_exp\", \"sinDOY\", \"cosDOY\",\"ground_water\"]\n"
   ]
  },
  {
   "cell_type": "code",
   "execution_count": 308,
   "metadata": {},
   "outputs": [],
   "source": [
    "# import some packages for modeling\n",
    "from sklearn.linear_model import LogisticRegression, LogisticRegressionCV, BayesianRidge\n",
    "from sklearn.ensemble import RandomForestClassifier, AdaBoostClassifier, GradientBoostingClassifier\n",
    "from sklearn.tree import DecisionTreeClassifier, plot_tree, export_graphviz\n",
    "from sklearn.calibration import CalibratedClassifierCV\n",
    "from sklearn.svm import SVC\n",
    "from sklearn.preprocessing import MinMaxScaler\n",
    "from sklearn.dummy import DummyClassifier\n",
    "from sklearn.metrics import f1_score, roc_curve, roc_auc_score, classification_report, precision_recall_curve\n",
    "from sklearn.model_selection import train_test_split, cross_validate, GroupKFold, KFold, StratifiedKFold, cross_val_score, GridSearchCV\n",
    "\n",
    "import copy\n",
    "\n",
    "from graphviz import Source\n",
    "\n",
    "import time\n",
    "\n",
    "from matplotlib import cm\n",
    "from scipy import interpolate\n",
    "\n",
    "import matplotlib.pyplot as plt"
   ]
  },
  {
   "cell_type": "code",
   "execution_count": 309,
   "metadata": {},
   "outputs": [
    {
     "name": "stdout",
     "output_type": "stream",
     "text": [
      "Train size 8357\n",
      "Test size 1974\n"
     ]
    },
    {
     "name": "stderr",
     "output_type": "stream",
     "text": [
      "/usr/local/lib/python3.6/dist-packages/sklearn/linear_model/logistic.py:432: FutureWarning: Default solver will be changed to 'lbfgs' in 0.22. Specify a solver to silence this warning.\n",
      "  FutureWarning)\n",
      "/usr/local/lib/python3.6/dist-packages/sklearn/linear_model/logistic.py:432: FutureWarning: Default solver will be changed to 'lbfgs' in 0.22. Specify a solver to silence this warning.\n",
      "  FutureWarning)\n",
      "/usr/local/lib/python3.6/dist-packages/sklearn/linear_model/logistic.py:432: FutureWarning: Default solver will be changed to 'lbfgs' in 0.22. Specify a solver to silence this warning.\n",
      "  FutureWarning)\n",
      "/usr/local/lib/python3.6/dist-packages/sklearn/linear_model/logistic.py:432: FutureWarning: Default solver will be changed to 'lbfgs' in 0.22. Specify a solver to silence this warning.\n",
      "  FutureWarning)\n",
      "/usr/local/lib/python3.6/dist-packages/sklearn/linear_model/logistic.py:432: FutureWarning: Default solver will be changed to 'lbfgs' in 0.22. Specify a solver to silence this warning.\n",
      "  FutureWarning)\n",
      "/usr/local/lib/python3.6/dist-packages/sklearn/linear_model/logistic.py:432: FutureWarning: Default solver will be changed to 'lbfgs' in 0.22. Specify a solver to silence this warning.\n",
      "  FutureWarning)\n",
      "/usr/local/lib/python3.6/dist-packages/sklearn/linear_model/logistic.py:432: FutureWarning: Default solver will be changed to 'lbfgs' in 0.22. Specify a solver to silence this warning.\n",
      "  FutureWarning)\n",
      "/usr/local/lib/python3.6/dist-packages/sklearn/linear_model/logistic.py:432: FutureWarning: Default solver will be changed to 'lbfgs' in 0.22. Specify a solver to silence this warning.\n",
      "  FutureWarning)\n",
      "/usr/local/lib/python3.6/dist-packages/sklearn/linear_model/logistic.py:432: FutureWarning: Default solver will be changed to 'lbfgs' in 0.22. Specify a solver to silence this warning.\n",
      "  FutureWarning)\n",
      "/usr/local/lib/python3.6/dist-packages/sklearn/linear_model/logistic.py:432: FutureWarning: Default solver will be changed to 'lbfgs' in 0.22. Specify a solver to silence this warning.\n",
      "  FutureWarning)\n",
      "/usr/local/lib/python3.6/dist-packages/sklearn/linear_model/logistic.py:432: FutureWarning: Default solver will be changed to 'lbfgs' in 0.22. Specify a solver to silence this warning.\n",
      "  FutureWarning)\n",
      "/usr/local/lib/python3.6/dist-packages/sklearn/linear_model/logistic.py:432: FutureWarning: Default solver will be changed to 'lbfgs' in 0.22. Specify a solver to silence this warning.\n",
      "  FutureWarning)\n"
     ]
    },
    {
     "name": "stdout",
     "output_type": "stream",
     "text": [
      "tree\n",
      "              precision    recall  f1-score   support\n",
      "\n",
      "         0.0       0.90      0.88      0.89      1271\n",
      "         1.0       0.79      0.82      0.81       703\n",
      "\n",
      "    accuracy                           0.86      1974\n",
      "   macro avg       0.85      0.85      0.85      1974\n",
      "weighted avg       0.86      0.86      0.86      1974\n",
      "\n",
      "dummy\n",
      "              precision    recall  f1-score   support\n",
      "\n",
      "         0.0       0.65      0.64      0.64      1271\n",
      "         1.0       0.36      0.36      0.36       703\n",
      "\n",
      "    accuracy                           0.54      1974\n",
      "   macro avg       0.50      0.50      0.50      1974\n",
      "weighted avg       0.54      0.54      0.54      1974\n",
      "\n",
      "most frequent\n",
      "              precision    recall  f1-score   support\n",
      "\n",
      "         0.0       0.63      0.61      0.62      1271\n",
      "         1.0       0.33      0.35      0.34       703\n",
      "\n",
      "    accuracy                           0.52      1974\n",
      "   macro avg       0.48      0.48      0.48      1974\n",
      "weighted avg       0.52      0.52      0.52      1974\n",
      "\n",
      "0.885892574245\n",
      "0.195538261256\n",
      "95\n",
      "              precision    recall  f1-score   support\n",
      "\n",
      "         0.0       0.68      0.99      0.80      5193\n",
      "         1.0       0.91      0.23      0.37      3164\n",
      "\n",
      "    accuracy                           0.70      8357\n",
      "   macro avg       0.79      0.61      0.59      8357\n",
      "weighted avg       0.77      0.70      0.64      8357\n",
      "\n",
      "50\n",
      "              precision    recall  f1-score   support\n",
      "\n",
      "         0.0       0.94      0.63      0.75      5193\n",
      "         1.0       0.60      0.93      0.73      3164\n",
      "\n",
      "    accuracy                           0.74      8357\n",
      "   macro avg       0.77      0.78      0.74      8357\n",
      "weighted avg       0.81      0.74      0.74      8357\n",
      "\n",
      "95\n",
      "              precision    recall  f1-score   support\n",
      "\n",
      "         0.0       0.72      1.00      0.84      1271\n",
      "         1.0       1.00      0.29      0.45       703\n",
      "\n",
      "    accuracy                           0.75      1974\n",
      "   macro avg       0.86      0.65      0.64      1974\n",
      "weighted avg       0.82      0.75      0.70      1974\n",
      "\n",
      "50\n",
      "              precision    recall  f1-score   support\n",
      "\n",
      "         0.0       0.97      0.54      0.70      1271\n",
      "         1.0       0.54      0.97      0.70       703\n",
      "\n",
      "    accuracy                           0.70      1974\n",
      "   macro avg       0.76      0.76      0.70      1974\n",
      "weighted avg       0.82      0.70      0.70      1974\n",
      "\n"
     ]
    },
    {
     "data": {
      "text/plain": [
       "Text(0,0.5,'Precision')"
      ]
     },
     "execution_count": 309,
     "metadata": {},
     "output_type": "execute_result"
    },
    {
     "data": {
      "image/png": "[encoded data removed]",
      "text/plain": [
       "<matplotlib.figure.Figure at 0x7f46f3700e80>"
      ]
     },
     "metadata": {},
     "output_type": "display_data"
    }
   ],
   "source": [
    "# build the test and training sets\n",
    "train = train[features+[\"status\"]].dropna()\n",
    "test = test[features+[\"status\"]].dropna()\n",
    "\n",
    "print(f\"Train size {train.shape[0]}\")\n",
    "print(f\"Test size {test.shape[0]}\")\n",
    "\n",
    "X_train = train[features]\n",
    "y_train = train.status\n",
    "X_test = test[features]\n",
    "y_test = test.status\n",
    "\n",
    "# normalize the data\n",
    "X_train=(X_train-X_train.mean())/X_train.std()\n",
    "X_test=(X_test-X_test.mean())/X_test.std()\n",
    "\n",
    "\n",
    "# initialize a logistic regressor\n",
    "model = LogisticRegression().fit(X_train, y_train)\n",
    "\n",
    "# initialize a grid search and fit\n",
    "clf = GridSearchCV(model, {'C':[1, 10]}, scoring='roc_auc', cv=5).fit(X_train, y_train)\n",
    "                        \n",
    "# tested model graveyard\n",
    "#model = SVC(probability=True).fit(X_train, y_train)\n",
    "#br = BayesianRidge().fit(X_train, y_train)\n",
    "#model = RandomForestClassifier(max_depth = 5).fit(X_train, y_train)\n",
    "#model = AdaBoostClassifier(learning_rate=0.25,n_estimators=50).fit(X_train, y_train)\n",
    "#model = GradientBoostingClassifier().fit(X_train, y_train)\n",
    "#model = DecisionTreeClassifier(max_depth = 7, criterion='entropy').fit(X_train, y_train)\n",
    "\n",
    "# initialize some dummy classifiers\n",
    "model = clf\n",
    "dummy = DummyClassifier().fit(X_train, y_train)\n",
    "dummy_majority = DummyClassifier(strategy='most_frequent').fit(X_train, y_train)\n",
    "\n",
    "# test the modls\n",
    "print('tree')\n",
    "print(classification_report(y_test, model.predict(X_test)))\n",
    "#print(y_test[model_cal.predict(X_test)].mean())\n",
    "\n",
    "print('dummy')\n",
    "print(classification_report(y_test, dummy.predict(X_test)))\n",
    "\n",
    "print('most frequent')\n",
    "print(classification_report(y_test, dummy.predict(X_test)))\n",
    "\n",
    "\n",
    "#print('last')\n",
    "#print(classification_report(y_test, X_test.last_result))\n",
    "\n",
    "\n",
    "# calculate precision recall curves\n",
    "precision, recall, thresh = precision_recall_curve(y_test, model.predict_proba(X_test)[:,1])\n",
    "plt.step(recall, precision, color='b', alpha=1, where='post')\n",
    "\n",
    "\n",
    "precision, recall, thresh = precision_recall_curve(y_train, model.predict_proba(X_train)[:,1])\n",
    "plt.step(recall, precision, color='r', alpha=1, where='post')\n",
    "\n",
    "# use precision recall curves to determine the appropriate thresholds\n",
    "thresh_95 = min([t for (p, t) in zip(precision, thresh) if p > 0.9])\n",
    "thresh_50 = min([t for (p, t) in zip(precision, thresh) if p > 0.6])\n",
    "print(thresh_95)\n",
    "print(thresh_50)\n",
    "\n",
    "# print classification reports based on thresholds\n",
    "print('95')\n",
    "print(classification_report(y_train, model.predict_proba(X_train)[:, 1] > thresh_95))\n",
    "\n",
    "print('50')\n",
    "print(classification_report(y_train, model.predict_proba(X_train)[:, 1] > thresh_50))\n",
    "#print(y_test[model_cal.predict_proba(X_test)[:, 1] > 0.8].mean())\n",
    "\n",
    "\n",
    "print('95')\n",
    "print(classification_report(y_test, model.predict_proba(X_test)[:, 1] > thresh_95))\n",
    "\n",
    "print('50')\n",
    "print(classification_report(y_test, model.predict_proba(X_test)[:, 1] > thresh_50))\n",
    "#print(y_test[model_cal.predict_proba(X_test)[:, 1] > 0.8].mean())\n",
    "\n",
    "\n",
    "\n",
    "\n",
    "plt.xlabel('Recall')\n",
    "plt.ylabel('Precision')"
   ]
  },
  {
   "cell_type": "code",
   "execution_count": 310,
   "metadata": {},
   "outputs": [
    {
     "data": {
      "image/png": "[encoded data removed]",
      "text/plain": [
       "<matplotlib.figure.Figure at 0x7f46f30c25c0>"
      ]
     },
     "metadata": {},
     "output_type": "display_data"
    }
   ],
   "source": [
    "# plot the ros curves for the train and test sets\n",
    "fig = plt.figure(figsize=(8, 8))\n",
    "\n",
    "ax = fig.add_subplot(111)\n",
    "\n",
    "ax.plot([0, 1], [0, 1], 'k--')\n",
    "\n",
    "plt.rc('xtick', labelsize=16) \n",
    "plt.rc('ytick', labelsize=16) \n",
    "\n",
    "y_probs = model.predict_proba(X_train)[:, 1]\n",
    "y_predicted = model.predict(X_train)\n",
    "auc = roc_auc_score(y_train, y_predicted)\n",
    "false_positive, true_positive, _  = roc_curve(y_train, y_probs)\n",
    "ax.plot(false_positive, true_positive, color='blue', label='train')\n",
    "\n",
    "\n",
    "ax.set_aspect(aspect=1)\n",
    "y_probs = model.predict_proba(X_test)[:, 1]\n",
    "y_predicted = model.predict(X_test)\n",
    "auc = roc_auc_score(y_test, y_predicted)\n",
    "false_positive, true_positive, _  = roc_curve(y_test, y_probs)\n",
    "ax.plot(false_positive, true_positive, color='darkorange', label='test')\n",
    "ax.legend(fontsize=22)\n",
    "\n",
    "\n",
    "plt.xlabel('False positive rate', fontsize=22)\n",
    "plt.ylabel('True positive rate', fontsize=22)\n",
    "plt.title('ROC curve (area = %0.2f)' % auc, fontsize=22)\n",
    "plt.show()"
   ]
  },
  {
   "cell_type": "code",
   "execution_count": 311,
   "metadata": {},
   "outputs": [
    {
     "name": "stdout",
     "output_type": "stream",
     "text": [
      "[ 0.45585505  0.83182018 -0.84894206  1.11243762  0.69339299 -0.23330678\n",
      "  0.02139893]\n"
     ]
    },
    {
     "data": {
      "image/png": "[encoded data removed]",
      "text/plain": [
       "<matplotlib.figure.Figure at 0x7f46f3224908>"
      ]
     },
     "metadata": {},
     "output_type": "display_data"
    }
   ],
   "source": [
    "# plot feature importances\n",
    "imp =model.get_params()['estimator'].coef_[0]\n",
    "\n",
    "names = {\n",
    "    'cosDOY': 'day of year cosine',\n",
    "    'sinDOY': 'day of year sine',\n",
    "    'rain_5_rel': 'rain in last 5 days',\n",
    "    'prob_exp': 'source probability',\n",
    "    'last_pos': 'days since positive observation',\n",
    "    'last_pos_inv': 'inverse days since positive observation',\n",
    "    'last_neg': 'days since negative observation',\n",
    "    'last_neg_inv': 'inverse days since negative observation',\n",
    "    'ground_water': 'ground water depth'\n",
    "}\n",
    "\n",
    "print(imp)\n",
    "plt.rc('xtick', labelsize=14) \n",
    "plt.rc('ytick', labelsize=14) \n",
    "fig = plt.figure()\n",
    "ax = fig.add_subplot(111)\n",
    "plt.title(\"feature importances\")\n",
    "ax.barh([names[feat] for feat in X_test.columns], imp)\n",
    "#ax.set_xticklabels( [\"cosine day of year\", \"ground water depth\", \"last negative observation\",\"last positive observation\",  \"source probability\", \"rain in last 3 days\",  \"rain in last 5 days\", \"sine day of year)\"], rotation=45 , ha=\"right\")\n",
    "plt.show()\n"
   ]
  },
  {
   "cell_type": "code",
   "execution_count": 312,
   "metadata": {},
   "outputs": [
    {
     "data": {
      "text/plain": [
       "Text(0,0.5,'count')"
      ]
     },
     "execution_count": 312,
     "metadata": {},
     "output_type": "execute_result"
    },
    {
     "data": {
      "image/png": "[encoded data removed]",
      "text/plain": [
       "<matplotlib.figure.Figure at 0x7f46f3224c50>"
      ]
     },
     "metadata": {},
     "output_type": "display_data"
    }
   ],
   "source": [
    "# plot class histograms for training set\n",
    "#plt.hist(model_cal.predict_proba(X_test)[:,1], bins=np.arange(0,1,.1))\n",
    "plt.hist(model.predict_proba(X_test)[:,1][y_test.astype(bool).values], bins=np.arange(0,1,.02), alpha = 0.5)\n",
    "plt.hist(model.predict_proba(X_test)[:,1][~(y_test.astype(bool).values)], bins=np.arange(0,1,.02),alpha = 0.5)\n",
    "plt.xlabel(\"probability\", fontsize=20)\n",
    "plt.ylabel(\"count\", fontsize=20)"
   ]
  },
  {
   "cell_type": "code",
   "execution_count": 313,
   "metadata": {},
   "outputs": [
    {
     "data": {
      "text/plain": [
       "Text(0,0.5,'count')"
      ]
     },
     "execution_count": 313,
     "metadata": {},
     "output_type": "execute_result"
    },
    {
     "data": {
      "image/png": "[encoded data removed]",
      "text/plain": [
       "<matplotlib.figure.Figure at 0x7f46f3b0f940>"
      ]
     },
     "metadata": {},
     "output_type": "display_data"
    }
   ],
   "source": [
    "# plot class histograms for test set\n",
    "#plt.hist(model_cal.predict_proba(X_valid)[:,1], bins=np.arange(0,1,.1))\n",
    "plt.hist(model.predict_proba(X_train)[:,1][y_train.astype(bool).values], bins=np.arange(0,1,.02), alpha = 0.5)\n",
    "plt.hist(model.predict_proba(X_train)[:,1][~(y_train.astype(bool).values)], bins=np.arange(0,1,.02),alpha = 0.5)\n",
    "plt.xlabel(\"probability\", fontsize=20)\n",
    "plt.ylabel(\"count\", fontsize=20)"
   ]
  },
  {
   "cell_type": "code",
   "execution_count": 314,
   "metadata": {},
   "outputs": [],
   "source": [
    "# export data\n",
    "out = []\n",
    "\n",
    "X_train=(X_train-X_train.mean())/X_train.std()\n",
    "\n",
    "for mile in miles:\n",
    "    now = pd.Timestamp.now().round('1d') \n",
    "    lat = data[data.mile==mile].lat.values[0]\n",
    "    lon = data[data.mile==mile].lon.values[0]\n",
    "    #rain_3_avg = data[data.mile==mile].rain_3_avg.values[0]\n",
    "    rain_5_avg = data[data.mile==mile].rain_5_avg.values[0]\n",
    "    #last_avg = data[data.mile==mile].last_avg.values[0]\n",
    "    name = data[data.mile==mile].name.mode().values[0]\n",
    "    last_3 = data[data.mile == mile].sort_values(by=\"date\", ascending=False).tail(3)[[\"date\", \"status\"]].to_dict(orient=\"record\")\n",
    "    \n",
    "    \n",
    "    result = {\n",
    "        'lat': lat, \n",
    "        'lon': lon, \n",
    "        'name': name,\n",
    "        'mile': mile,\n",
    "        'last_3': last_3\n",
    "    }\n",
    "    \n",
    "    _, i = kdt.query([[lat, lon, (now.value // 10**16) ]])\n",
    "    ground_water = gw.iloc[i.flatten()].meas.values[0]\n",
    "    \n",
    "    \n",
    "    for days in range(4):\n",
    "        prediction = model.predict_proba([[\n",
    "                    (getRainSum(lat, lon, int(now.value/10**9) + (24*60*60*days), 5)/rain_5_avg - X_train.rain_5_rel.mean()) / X_train.rain_5_rel.std(), \n",
    "                    ((last_pos(mile, now) + days)- X_train.last_pos.mean()) / X_train.last_pos.std(),\n",
    "                    ((last_neg(mile, now) + days) - X_train.last_neg.mean()) / X_train.last_neg.std(),\n",
    "                    (data[mile == data.mile].status.mean()- X_train.prob_exp.mean()) / X_train.prob_exp.std(),\n",
    "                    (np.sin(2  * np.pi * now.dayofyear/365.)- X_train.sinDOY.mean()) / X_train.sinDOY.std(),\n",
    "                    (np.cos(2  * np.pi * now.dayofyear/365.)- X_train.cosDOY.mean()) / X_train.cosDOY.std(),\n",
    "                    (ground_water- X_train.ground_water.mean()) / X_train.ground_water.std()\n",
    "                ]])\n",
    "        result[f'prediction_{days}'] = prediction[0][1]\n",
    "    \n",
    "    out.append(result)\n",
    "\n",
    "    \n",
    "f = open('out_combined.pkl', 'wb')\n",
    "pickle.dump(out, f)\n",
    "f.close() "
   ]
  },
  {
   "cell_type": "code",
   "execution_count": 1760,
   "metadata": {},
   "outputs": [
    {
     "data": {
      "text/plain": [
       "array([  105. ,    15.4,   680.8,    32. ,    68.4,    24.1,   285.9,\n",
       "         112.6,   693.5,     6.6,   425.8,   315.8,   136.5,   719. ,\n",
       "         193.8,  1200.7,   607.1,  1965.7,     2.7,   510.9])"
      ]
     },
     "execution_count": 1760,
     "metadata": {},
     "output_type": "execute_result"
    }
   ],
   "source": [
    "data[data.prob_exp < .90].groupby(\"mile\").count().sort_values(by=\"date\", ascending=False).head(20).index.values"
   ]
  },
  {
   "cell_type": "code",
   "execution_count": 1763,
   "metadata": {},
   "outputs": [
    {
     "data": {
      "text/plain": [
       "Text(0.5,0,'year')"
      ]
     },
     "execution_count": 1763,
     "metadata": {},
     "output_type": "execute_result"
    },
    {
     "data": {
      "image/png": "[encoded data removed]",
      "text/plain": [
       "<matplotlib.figure.Figure at 0x7fc1ea552b00>"
      ]
     },
     "metadata": {},
     "output_type": "display_data"
    }
   ],
   "source": [
    "ax = data[data.mile== 68.4].plot(x=\"date\", y=\"status\", style=\".\", figsize=(12,4), legend=False,markersize=10)\n",
    "#display(data[data.mile==668.7])\n",
    "ax.set_yticks([0, 1]);\n",
    "ax.set_yticklabels([ \"dry\",\"flowing\"]);\n",
    "ax.tick_params(axis='both', which='major', labelsize=16)\n",
    "ax.spines[\"top\"].set_visible(False)  \n",
    "ax.spines[\"right\"].set_visible(False)  \n",
    "\n",
    "plt.ylabel(\"status\", fontsize=22) \n",
    "plt.xlabel(\"year\", fontsize=22) "
   ]
  },
  {
   "cell_type": "code",
   "execution_count": 1904,
   "metadata": {},
   "outputs": [
    {
     "data": {
      "text/plain": [
       "<matplotlib.axes._subplots.AxesSubplot at 0x7fc1e89106d8>"
      ]
     },
     "execution_count": 1904,
     "metadata": {},
     "output_type": "execute_result"
    },
    {
     "data": {
      "image/png": "[encoded data removed]",
      "text/plain": [
       "<matplotlib.figure.Figure at 0x7fc1e8a21b70>"
      ]
     },
     "metadata": {},
     "output_type": "display_data"
    },
    {
     "data": {
      "image/png": "[encoded data removed]",
      "text/plain": [
       "<matplotlib.figure.Figure at 0x7fc1e8910ef0>"
      ]
     },
     "metadata": {},
     "output_type": "display_data"
    }
   ],
   "source": [
    "data[data.status==1].plot(x=\"last_pos\", y=\"last_neg\", style=\"s\")\n",
    "data[data.status==0].plot(x=\"last_pos\", y=\"last_neg\", style=\"sr\")"
   ]
  },
  {
   "cell_type": "code",
   "execution_count": 1849,
   "metadata": {},
   "outputs": [
    {
     "ename": "NameError",
     "evalue": "name 'variables' is not defined",
     "output_type": "error",
     "traceback": [
      "\u001b[0;31m---------------------------------------------------------------------------\u001b[0m",
      "\u001b[0;31mNameError\u001b[0m                                 Traceback (most recent call last)",
      "\u001b[0;32m<ipython-input-1849-54fe97bd6546>\u001b[0m in \u001b[0;36m<module>\u001b[0;34m()\u001b[0m\n\u001b[0;32m----> 1\u001b[0;31m \u001b[0mvariables\u001b[0m\u001b[0;34m\u001b[0m\u001b[0;34m\u001b[0m\u001b[0m\n\u001b[0m",
      "\u001b[0;31mNameError\u001b[0m: name 'variables' is not defined"
     ]
    }
   ],
   "source": []
  },
  {
   "cell_type": "code",
   "execution_count": 1278,
   "metadata": {},
   "outputs": [
    {
     "ename": "KeyError",
     "evalue": "\"['last_pos_rel', 'last_neg_rel'] not in index\"",
     "output_type": "error",
     "traceback": [
      "\u001b[0;31m---------------------------------------------------------------------------\u001b[0m",
      "\u001b[0;31mKeyError\u001b[0m                                  Traceback (most recent call last)",
      "\u001b[0;32m<ipython-input-1278-b6ab6ac49161>\u001b[0m in \u001b[0;36m<module>\u001b[0;34m()\u001b[0m\n\u001b[0;32m----> 1\u001b[0;31m \u001b[0mtrain\u001b[0m \u001b[0;34m=\u001b[0m \u001b[0mtrain\u001b[0m\u001b[0;34m[\u001b[0m\u001b[0;34m[\u001b[0m\u001b[0;34m\"rain_5_rel\"\u001b[0m\u001b[0;34m,\u001b[0m\u001b[0;34m\"last_pos_rel\"\u001b[0m\u001b[0;34m,\u001b[0m\u001b[0;34m\"last_neg_rel\"\u001b[0m\u001b[0;34m,\u001b[0m \u001b[0;34m\"prob_exp\"\u001b[0m\u001b[0;34m,\u001b[0m \u001b[0;34m\"sinDOY\"\u001b[0m\u001b[0;34m,\u001b[0m \u001b[0;34m\"cosDOY\"\u001b[0m\u001b[0;34m,\u001b[0m \u001b[0;34m\"status\"\u001b[0m\u001b[0;34m]\u001b[0m\u001b[0;34m]\u001b[0m\u001b[0;34m.\u001b[0m\u001b[0mdropna\u001b[0m\u001b[0;34m(\u001b[0m\u001b[0;34m)\u001b[0m\u001b[0;34m\u001b[0m\u001b[0;34m\u001b[0m\u001b[0m\n\u001b[0m\u001b[1;32m      2\u001b[0m \u001b[0mtest\u001b[0m \u001b[0;34m=\u001b[0m \u001b[0mtest\u001b[0m\u001b[0;34m[\u001b[0m\u001b[0;34m[\u001b[0m\u001b[0;34m\"rain_5_rel\"\u001b[0m\u001b[0;34m,\u001b[0m\u001b[0;34m\"last_pos_rel\"\u001b[0m\u001b[0;34m,\u001b[0m\u001b[0;34m\"last_neg_rel\"\u001b[0m\u001b[0;34m,\u001b[0m \u001b[0;34m\"prob_exp\"\u001b[0m\u001b[0;34m,\u001b[0m \u001b[0;34m\"sinDOY\"\u001b[0m\u001b[0;34m,\u001b[0m \u001b[0;34m\"cosDOY\"\u001b[0m\u001b[0;34m,\u001b[0m \u001b[0;34m\"status\"\u001b[0m\u001b[0;34m]\u001b[0m\u001b[0;34m]\u001b[0m\u001b[0;34m.\u001b[0m\u001b[0mdropna\u001b[0m\u001b[0;34m(\u001b[0m\u001b[0;34m)\u001b[0m\u001b[0;34m\u001b[0m\u001b[0;34m\u001b[0m\u001b[0m\n\u001b[1;32m      3\u001b[0m \u001b[0;34m\u001b[0m\u001b[0m\n\u001b[1;32m      4\u001b[0m \u001b[0mprint\u001b[0m\u001b[0;34m(\u001b[0m\u001b[0;34mf\"Train size {train.shape[0]}\"\u001b[0m\u001b[0;34m)\u001b[0m\u001b[0;34m\u001b[0m\u001b[0;34m\u001b[0m\u001b[0m\n\u001b[1;32m      5\u001b[0m \u001b[0mprint\u001b[0m\u001b[0;34m(\u001b[0m\u001b[0;34mf\"Test size {test.shape[0]}\"\u001b[0m\u001b[0;34m)\u001b[0m\u001b[0;34m\u001b[0m\u001b[0;34m\u001b[0m\u001b[0m\n",
      "\u001b[0;32m/usr/local/lib/python3.6/dist-packages/pandas/core/frame.py\u001b[0m in \u001b[0;36m__getitem__\u001b[0;34m(self, key)\u001b[0m\n\u001b[1;32m   2984\u001b[0m             \u001b[0;32mif\u001b[0m \u001b[0mis_iterator\u001b[0m\u001b[0;34m(\u001b[0m\u001b[0mkey\u001b[0m\u001b[0;34m)\u001b[0m\u001b[0;34m:\u001b[0m\u001b[0;34m\u001b[0m\u001b[0;34m\u001b[0m\u001b[0m\n\u001b[1;32m   2985\u001b[0m                 \u001b[0mkey\u001b[0m \u001b[0;34m=\u001b[0m \u001b[0mlist\u001b[0m\u001b[0;34m(\u001b[0m\u001b[0mkey\u001b[0m\u001b[0;34m)\u001b[0m\u001b[0;34m\u001b[0m\u001b[0;34m\u001b[0m\u001b[0m\n\u001b[0;32m-> 2986\u001b[0;31m             \u001b[0mindexer\u001b[0m \u001b[0;34m=\u001b[0m \u001b[0mself\u001b[0m\u001b[0;34m.\u001b[0m\u001b[0mloc\u001b[0m\u001b[0;34m.\u001b[0m\u001b[0m_convert_to_indexer\u001b[0m\u001b[0;34m(\u001b[0m\u001b[0mkey\u001b[0m\u001b[0;34m,\u001b[0m \u001b[0maxis\u001b[0m\u001b[0;34m=\u001b[0m\u001b[0;36m1\u001b[0m\u001b[0;34m,\u001b[0m \u001b[0mraise_missing\u001b[0m\u001b[0;34m=\u001b[0m\u001b[0;32mTrue\u001b[0m\u001b[0;34m)\u001b[0m\u001b[0;34m\u001b[0m\u001b[0;34m\u001b[0m\u001b[0m\n\u001b[0m\u001b[1;32m   2987\u001b[0m \u001b[0;34m\u001b[0m\u001b[0m\n\u001b[1;32m   2988\u001b[0m         \u001b[0;31m# take() does not accept boolean indexers\u001b[0m\u001b[0;34m\u001b[0m\u001b[0;34m\u001b[0m\u001b[0;34m\u001b[0m\u001b[0m\n",
      "\u001b[0;32m/usr/local/lib/python3.6/dist-packages/pandas/core/indexing.py\u001b[0m in \u001b[0;36m_convert_to_indexer\u001b[0;34m(self, obj, axis, is_setter, raise_missing)\u001b[0m\n\u001b[1;32m   1283\u001b[0m                 \u001b[0;31m# When setting, missing keys are not allowed, even with .loc:\u001b[0m\u001b[0;34m\u001b[0m\u001b[0;34m\u001b[0m\u001b[0;34m\u001b[0m\u001b[0m\n\u001b[1;32m   1284\u001b[0m                 \u001b[0mkwargs\u001b[0m \u001b[0;34m=\u001b[0m \u001b[0;34m{\u001b[0m\u001b[0;34m\"raise_missing\"\u001b[0m\u001b[0;34m:\u001b[0m \u001b[0;32mTrue\u001b[0m \u001b[0;32mif\u001b[0m \u001b[0mis_setter\u001b[0m \u001b[0;32melse\u001b[0m \u001b[0mraise_missing\u001b[0m\u001b[0;34m}\u001b[0m\u001b[0;34m\u001b[0m\u001b[0;34m\u001b[0m\u001b[0m\n\u001b[0;32m-> 1285\u001b[0;31m                 \u001b[0;32mreturn\u001b[0m \u001b[0mself\u001b[0m\u001b[0;34m.\u001b[0m\u001b[0m_get_listlike_indexer\u001b[0m\u001b[0;34m(\u001b[0m\u001b[0mobj\u001b[0m\u001b[0;34m,\u001b[0m \u001b[0maxis\u001b[0m\u001b[0;34m,\u001b[0m \u001b[0;34m**\u001b[0m\u001b[0mkwargs\u001b[0m\u001b[0;34m)\u001b[0m\u001b[0;34m[\u001b[0m\u001b[0;36m1\u001b[0m\u001b[0;34m]\u001b[0m\u001b[0;34m\u001b[0m\u001b[0;34m\u001b[0m\u001b[0m\n\u001b[0m\u001b[1;32m   1286\u001b[0m         \u001b[0;32melse\u001b[0m\u001b[0;34m:\u001b[0m\u001b[0;34m\u001b[0m\u001b[0;34m\u001b[0m\u001b[0m\n\u001b[1;32m   1287\u001b[0m             \u001b[0;32mtry\u001b[0m\u001b[0;34m:\u001b[0m\u001b[0;34m\u001b[0m\u001b[0;34m\u001b[0m\u001b[0m\n",
      "\u001b[0;32m/usr/local/lib/python3.6/dist-packages/pandas/core/indexing.py\u001b[0m in \u001b[0;36m_get_listlike_indexer\u001b[0;34m(self, key, axis, raise_missing)\u001b[0m\n\u001b[1;32m   1090\u001b[0m \u001b[0;34m\u001b[0m\u001b[0m\n\u001b[1;32m   1091\u001b[0m         self._validate_read_indexer(\n\u001b[0;32m-> 1092\u001b[0;31m             \u001b[0mkeyarr\u001b[0m\u001b[0;34m,\u001b[0m \u001b[0mindexer\u001b[0m\u001b[0;34m,\u001b[0m \u001b[0mo\u001b[0m\u001b[0;34m.\u001b[0m\u001b[0m_get_axis_number\u001b[0m\u001b[0;34m(\u001b[0m\u001b[0maxis\u001b[0m\u001b[0;34m)\u001b[0m\u001b[0;34m,\u001b[0m \u001b[0mraise_missing\u001b[0m\u001b[0;34m=\u001b[0m\u001b[0mraise_missing\u001b[0m\u001b[0;34m\u001b[0m\u001b[0;34m\u001b[0m\u001b[0m\n\u001b[0m\u001b[1;32m   1093\u001b[0m         )\n\u001b[1;32m   1094\u001b[0m         \u001b[0;32mreturn\u001b[0m \u001b[0mkeyarr\u001b[0m\u001b[0;34m,\u001b[0m \u001b[0mindexer\u001b[0m\u001b[0;34m\u001b[0m\u001b[0;34m\u001b[0m\u001b[0m\n",
      "\u001b[0;32m/usr/local/lib/python3.6/dist-packages/pandas/core/indexing.py\u001b[0m in \u001b[0;36m_validate_read_indexer\u001b[0;34m(self, key, indexer, axis, raise_missing)\u001b[0m\n\u001b[1;32m   1183\u001b[0m             \u001b[0;32mif\u001b[0m \u001b[0;32mnot\u001b[0m \u001b[0;34m(\u001b[0m\u001b[0mself\u001b[0m\u001b[0;34m.\u001b[0m\u001b[0mname\u001b[0m \u001b[0;34m==\u001b[0m \u001b[0;34m\"loc\"\u001b[0m \u001b[0;32mand\u001b[0m \u001b[0;32mnot\u001b[0m \u001b[0mraise_missing\u001b[0m\u001b[0;34m)\u001b[0m\u001b[0;34m:\u001b[0m\u001b[0;34m\u001b[0m\u001b[0;34m\u001b[0m\u001b[0m\n\u001b[1;32m   1184\u001b[0m                 \u001b[0mnot_found\u001b[0m \u001b[0;34m=\u001b[0m \u001b[0mlist\u001b[0m\u001b[0;34m(\u001b[0m\u001b[0mset\u001b[0m\u001b[0;34m(\u001b[0m\u001b[0mkey\u001b[0m\u001b[0;34m)\u001b[0m \u001b[0;34m-\u001b[0m \u001b[0mset\u001b[0m\u001b[0;34m(\u001b[0m\u001b[0max\u001b[0m\u001b[0;34m)\u001b[0m\u001b[0;34m)\u001b[0m\u001b[0;34m\u001b[0m\u001b[0;34m\u001b[0m\u001b[0m\n\u001b[0;32m-> 1185\u001b[0;31m                 \u001b[0;32mraise\u001b[0m \u001b[0mKeyError\u001b[0m\u001b[0;34m(\u001b[0m\u001b[0;34m\"{} not in index\"\u001b[0m\u001b[0;34m.\u001b[0m\u001b[0mformat\u001b[0m\u001b[0;34m(\u001b[0m\u001b[0mnot_found\u001b[0m\u001b[0;34m)\u001b[0m\u001b[0;34m)\u001b[0m\u001b[0;34m\u001b[0m\u001b[0;34m\u001b[0m\u001b[0m\n\u001b[0m\u001b[1;32m   1186\u001b[0m \u001b[0;34m\u001b[0m\u001b[0m\n\u001b[1;32m   1187\u001b[0m             \u001b[0;31m# we skip the warning on Categorical/Interval\u001b[0m\u001b[0;34m\u001b[0m\u001b[0;34m\u001b[0m\u001b[0;34m\u001b[0m\u001b[0m\n",
      "\u001b[0;31mKeyError\u001b[0m: \"['last_pos_rel', 'last_neg_rel'] not in index\""
     ]
    }
   ],
   "source": [
    "train = train[[\"rain_5_rel\",\"last_pos_rel\",\"last_neg_rel\", \"prob_exp\", \"sinDOY\", \"cosDOY\", \"status\"]].dropna()\n",
    "test = test[[\"rain_5_rel\",\"last_pos_rel\",\"last_neg_rel\", \"prob_exp\", \"sinDOY\", \"cosDOY\", \"status\"]].dropna()\n",
    "\n",
    "print(f\"Train size {train.shape[0]}\")\n",
    "print(f\"Test size {test.shape[0]}\")\n",
    "\n",
    "X_train = train[[\"rain_5_rel\",\"last_pos_rel\",\"last_neg_rel\", \"prob_exp\", \"sinDOY\", \"cosDOY\"]]\n",
    "y_train = train.status\n",
    "X_test = test[[\"rain_5_rel\",\"last_pos_rel\",\"last_neg_rel\", \"prob_exp\", \"sinDOY\", \"cosDOY\"]]\n",
    "y_test = test.status\n",
    "\n",
    "\n",
    "#dt = LogisticRegression(penalty=\"elasticnet\").fit(X_train, y_train)\n",
    "#dt = SVC(probability=True).fit(X_train, y_train)\n",
    "#br = BayesianRidge().fit(X_train, y_train)\n",
    "#dt = RandomForestClassifier(max_depth = 5).fit(X_train, y_train)\n",
    "dt = AdaBoostClassifier(n_estimators = 100).fit(X_train, y_train)\n",
    "#dt = DecisionTreeClassifier(max_depth = 7, criterion='entropy').fit(X_train, y_train)\n",
    "\n",
    "dummy = DummyClassifier().fit(X_train, y_train)\n",
    "dummy_majority = DummyClassifier(strategy='most_frequent').fit(X_train, y_train)\n",
    "\n",
    "dt_cal = CalibratedClassifierCV(dt, cv='prefit').fit(X_train, y_train)\n",
    "dummy_cal = CalibratedClassifierCV(dummy, cv='prefit').fit(X_train, y_train)\n",
    "dummy_majority_cal = CalibratedClassifierCV(dummy_majority, cv='prefit').fit(X_train, y_train)\n",
    "\n",
    "\n",
    "classifiers = []\n",
    "reports = []\n",
    "cv = StratifiedKFold(n_splits=5, random_state=0)\n",
    "for train_index, test_index in cv.split(X_train, y=y_train):\n",
    "    xt, xv, yt, yv = X_train.iloc[train_index], X_train.iloc[test_index], y_train.iloc[train_index], y_train.iloc[test_index]\n",
    "    dt.fit(xt, yt)\n",
    "    classifiers.append(copy.copy(dt))\n",
    "    reports.append(classification_report(yv, dt.predict(xv), output_dict=True))\n",
    "\n",
    "dt.fit(X_test, y_test)\n",
    "classifiers.append(copy.copy(dt))\n",
    "reports.append(classification_report(y_test, dt.predict(X_test), output_dict=True))\n",
    "\n",
    "\n",
    "#print('last')\n",
    "#print(classification_report(y_valid, X_valid.last_result))\n",
    "\n",
    "precision, recall, thresh = precision_recall_curve(y_valid, dt.predict_proba(X_valid)[:,1])\n",
    "\n",
    "thresh_95 = min([t for (p, t) in zip(precision, thresh) if p > 0.95])\n",
    "thresh_50 = min([t for (p, t) in zip(precision, thresh) if p > 0.5])\n",
    "print(thresh_95)\n",
    "print(thresh_50)\n",
    "\n",
    "for p, t in zip(precision, thresh):\n",
    "    if p > 0.5:\n",
    "        print (p,t)\n",
    "        break\n",
    "\n",
    "\n",
    "plt.step(recall, precision, color='b', alpha=0.2, where='post')\n",
    "plt.xlabel('Recall')\n",
    "plt.ylabel('Precision')\n",
    "plt.ylim([-0.05, 1.05])\n",
    "plt.xlim([-0.05, 1.05])"
   ]
  },
  {
   "cell_type": "code",
   "execution_count": 1657,
   "metadata": {},
   "outputs": [],
   "source": [
    "from sklearn.feature_extraction.text import CountVectorizer\n",
    "from sklearn.cluster import KMeans, SpectralClustering"
   ]
  },
  {
   "cell_type": "code",
   "execution_count": 1661,
   "metadata": {},
   "outputs": [],
   "source": [
    "from sklearn.feature_extraction.text import CountVectorizer\n",
    "corpus = data_over.description\n",
    "vectorizer = CountVectorizer()\n",
    "X = vectorizer.fit_transform(corpus)\n"
   ]
  },
  {
   "cell_type": "code",
   "execution_count": 1662,
   "metadata": {},
   "outputs": [
    {
     "data": {
      "text/plain": [
       "KMeans(algorithm='auto', copy_x=True, init='k-means++', max_iter=300,\n",
       "       n_clusters=2, n_init=10, n_jobs=None, precompute_distances='auto',\n",
       "       random_state=None, tol=0.0001, verbose=0)"
      ]
     },
     "execution_count": 1662,
     "metadata": {},
     "output_type": "execute_result"
    }
   ],
   "source": [
    "true_k = 2\n",
    "model = KMeans(n_clusters=true_k)\n",
    "model.fit(X)"
   ]
  },
  {
   "cell_type": "code",
   "execution_count": 1663,
   "metadata": {},
   "outputs": [],
   "source": [
    "order_centroids = model.cluster_centers_.argsort()[:, ::-1]\n",
    "terms = vectorizer.get_feature_names()"
   ]
  },
  {
   "cell_type": "code",
   "execution_count": 1664,
   "metadata": {},
   "outputs": [
    {
     "name": "stdout",
     "output_type": "stream",
     "text": [
      "Cluster 0:\n",
      "dry\n",
      "flowing\n",
      "flow\n",
      "water\n",
      "good\n",
      "well\n",
      "of\n",
      "and\n",
      "still\n",
      "15\n",
      "Cluster 1:\n",
      "the\n",
      "water\n",
      "to\n",
      "is\n",
      "and\n",
      "of\n",
      "dry\n",
      "you\n",
      "but\n",
      "trail\n"
     ]
    }
   ],
   "source": [
    "for i in range(true_k):\n",
    "    print(f\"Cluster {i}:\")\n",
    "    for ind in order_centroids[i, :10]:\n",
    "        print(f\"{terms[ind]}\")"
   ]
  },
  {
   "cell_type": "code",
   "execution_count": 1669,
   "metadata": {},
   "outputs": [
    {
     "name": "stdout",
     "output_type": "stream",
     "text": [
      "10    flowing pretty good.                                                                                                                                                                                                     \n",
      "13    dry                                                                                                                                                                                                                      \n",
      "17    dry                                                                                                                                                                                                                      \n",
      "18    2/3/18 (warner springs monty) : flowing. crossed on a log.                                                                                                                                                               \n",
      "27    2/3/18 (warner springs monty) : dry.                                                                                                                                                                                     \n",
      "52    2/3/18 (warner springs monty) : trough drained, but water is good from the pipe and valve feeding the trough.                                                                                                            \n",
      "69    2/7/18 (jan) : the trough and springbox at barrel spring were cleaned out today, reestablishing the water flow which was blocked (by dead rats).  always treat the water even though it looks clean coming from the pipe.\n",
      "72    dry                                                                                                                                                                                                                      \n",
      "84    flowing strong and clear.                                                                                                                                                                                                \n",
      "91    2/13/18 (ridge route) : decenet flow.                                                                                                                                                                                    \n",
      "Name: description, dtype: object\n",
      "[0 0 0 0 0 1 1 0 0 0]\n"
     ]
    }
   ],
   "source": [
    "print(data.description.head(10))\n",
    "X = vectorizer.transform(data.description.head(10))\n",
    "predicted = model.predict(X)\n",
    "print(predicted)"
   ]
  },
  {
   "cell_type": "code",
   "execution_count": null,
   "metadata": {},
   "outputs": [],
   "source": []
  }
 ],
 "metadata": {
  "kernelspec": {
   "display_name": "Python 3",
   "language": "python",
   "name": "python3"
  },
  "language_info": {
   "codemirror_mode": {
    "name": "ipython",
    "version": 3
   },
   "file_extension": ".py",
   "mimetype": "text/x-python",
   "name": "python",
   "nbconvert_exporter": "python",
   "pygments_lexer": "ipython3",
   "version": "3.6.8"
  }
 },
 "nbformat": 4,
 "nbformat_minor": 4
}
